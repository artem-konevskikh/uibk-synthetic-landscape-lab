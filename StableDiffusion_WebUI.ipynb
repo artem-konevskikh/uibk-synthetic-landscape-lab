{
  "nbformat": 4,
  "nbformat_minor": 0,
  "metadata": {
    "colab": {
      "provenance": [],
      "collapsed_sections": []
    },
    "kernelspec": {
      "name": "python3",
      "display_name": "Python 3"
    },
    "language_info": {
      "name": "python"
    },
    "accelerator": "GPU",
    "gpuClass": "standard"
  },
  "cells": [
    {
      "cell_type": "markdown",
      "source": [
        "# Stable Diffusion Web UI\n",
        "Adapted from: [colab 1](https://colab.research.google.com/drive/1AfAmwLMd_Vx33O9IwY2TmO9wKZ8ABRRa) & [colab 2](https://colab.research.google.com/drive/1kw3egmSn-KgWsikYvOMjJkVDsPLjEMzl)\n",
        "\n",
        "by [Artem Konevskikh](https://aiculedssul.net/)"
      ],
      "metadata": {
        "id": "gfKvWAVnz8OB"
      }
    },
    {
      "cell_type": "markdown",
      "source": [
        "## Installation"
      ],
      "metadata": {
        "id": "DUpYq27UEReO"
      }
    },
    {
      "cell_type": "code",
      "source": [
        "#@title 1. Restart the Colab\n",
        "#@markdown This will crash Colab. It's required, but everything will still be intact so dont worry)\n",
        "import os\n",
        "os.kill(os.getpid(), 9)"
      ],
      "metadata": {
        "id": "p8FI40sFj9tU",
        "cellView": "form"
      },
      "execution_count": null,
      "outputs": []
    },
    {
      "cell_type": "code",
      "source": [
        "#@title 2. Clone Web UI\n",
        "!git clone https://github.com/AUTOMATIC1111/stable-diffusion-webui\n",
        "%cd stable-diffusion-webui"
      ],
      "metadata": {
        "id": "sBbcB4vwj_jm",
        "cellView": "form"
      },
      "execution_count": null,
      "outputs": []
    },
    {
      "cell_type": "code",
      "source": [
        "#@title 3. Get models\n",
        "#@markdown In order to download the model, please get a token from https://huggingface.co/settings/tokens <br/>\n",
        "#@markdown Paste your token here:\n",
        "user_token = \"\" #@param {type:\"string\"}\n",
        "user_header = f\"\\\"Authorization: Bearer {user_token}\\\"\"\n",
        "!wget --header={user_header} https://huggingface.co/CompVis/stable-diffusion-v-1-4-original/resolve/main/sd-v1-4.ckpt -O /content/stable-diffusion-webui/model.ckpt"
      ],
      "metadata": {
        "id": "CT_J9L7oqLxG",
        "cellView": "form"
      },
      "execution_count": null,
      "outputs": []
    },
    {
      "cell_type": "code",
      "source": [
        "#@title 4. Install requirements\n",
        "!COMMANDLINE_ARGS=\"--exit\" REQS_FILE=\"requirements.txt\" python launch.py\n",
        "%cd stable-diffusion-webui\n",
        "!git pull\n"
      ],
      "metadata": {
        "id": "IB19TzabDtYF",
        "cellView": "form"
      },
      "execution_count": null,
      "outputs": []
    },
    {
      "cell_type": "markdown",
      "source": [
        "## 5. Launch Web UI"
      ],
      "metadata": {
        "id": "VteC0xhkFDsN"
      }
    },
    {
      "cell_type": "code",
      "source": [
        "#@markdown You will get a link to ***.gradio.app, follow it\n",
        "!COMMANDLINE_ARGS=\"--share --gradio-auth user:password\" REQS_FILE=\"requirements.txt\" python launch.py"
      ],
      "metadata": {
        "id": "R-xAdMA5wxXd",
        "cellView": "form"
      },
      "execution_count": null,
      "outputs": []
    }
  ]
}