{
  "cells": [
    {
      "cell_type": "markdown",
      "metadata": {
        "id": "UAuGknLNtVQF"
      },
      "source": [
        "Implementation of [Frame Interpolation for Large Scene Motion code repo](https://github.com/google-research/frame-interpolation). All credit goes to them. \n",
        "\n",
        "This notebook maintained by [Stephen Young](https://twitter.com/KyrickYoung) or SteveTheNinja#0616"
      ]
    },
    {
      "cell_type": "code",
      "execution_count": null,
      "metadata": {
        "cellView": "form",
        "id": "AM-0m4fJ730q"
      },
      "outputs": [],
      "source": [
        "#@title Check GPU Status\n",
        "!nvidia-smi -L"
      ]
    },
    {
      "cell_type": "code",
      "execution_count": null,
      "metadata": {
        "id": "9rUbZMWOvlms",
        "cellView": "form"
      },
      "outputs": [],
      "source": [
        "# @title Mount Drive\n",
        "\n",
        "from google.colab import drive\n",
        "from pathlib import Path\n",
        "import os\n",
        "\n",
        "ROOT_FOLDER = \"generative\" # @param {type:\"string\"}\n",
        "PROJECT_FOLDER = \"frame-interpolation\" # @param {type:\"string\"}\n",
        "MOUNTED_PATH = Path('/content/drive')\n",
        "MYDRIVE_PATH = MOUNTED_PATH / \"MyDrive\"\n",
        "PROJECT_PATH = MYDRIVE_PATH /  ROOT_FOLDER / PROJECT_FOLDER\n",
        "\n",
        "drive.mount(str(MOUNTED_PATH))\n",
        "\n",
        "os.makedirs(PROJECT_PATH, exist_ok=True)\n"
      ]
    },
    {
      "cell_type": "code",
      "execution_count": null,
      "metadata": {
        "cellView": "form",
        "id": "5VWZQHo5tOol"
      },
      "outputs": [],
      "source": [
        "#@title Setup\n",
        "!git clone https://github.com/google-research/frame-interpolation frame_interpolation\n",
        "!pip install mediapy==1.0.3 gdown"
      ]
    },
    {
      "cell_type": "code",
      "execution_count": null,
      "metadata": {
        "cellView": "form",
        "id": "8XtrPTfl3S0-"
      },
      "outputs": [],
      "source": [
        "# @title Imports\n",
        "\n",
        "from pathlib import Path\n",
        "import functools\n",
        "import os\n",
        "from typing import List, Sequence\n",
        "import sys\n",
        "import glob\n",
        "import math\n",
        "from base64 import b64encode\n",
        "\n",
        "from IPython import display\n",
        "from frame_interpolation.eval import interpolator as interpolator_lib\n",
        "from frame_interpolation.eval import util\n",
        "from absl import app\n",
        "from absl import flags\n",
        "from absl import logging\n",
        "import mediapy as media\n",
        "import natsort\n",
        "import numpy as np\n",
        "import tensorflow as tf\n",
        "from tqdm.notebook import trange"
      ]
    },
    {
      "cell_type": "markdown",
      "source": [
        "# Setup Models"
      ],
      "metadata": {
        "id": "r8L2_TJKAveZ"
      }
    },
    {
      "cell_type": "markdown",
      "source": [
        "Downloading from gdrive in code is unreliable. If the code below fails you will have to copy the files into your gdrive manually.\n",
        "\n",
        "To do so: \n",
        "1. Download the entire [pretrained_models](https://drive.google.com/drive/folders/1q8110-qp225asX3DQvZnfLfJPkCHmDpy) folder from gdrive\n",
        "2. Unzip the contents on your computer\n",
        "3. Upload the pretrained_models to your grdrive under the project folder. Default: MyDrive/generative/frame-interpolation/pretrained_models/\n",
        "\n",
        "Note: the full path will be different if you've changed the root and project folders above. Path is in the structure MyDrive/ROOT_FOLDER/PROJECT_FOLDER/pretrained_models/"
      ],
      "metadata": {
        "id": "jVbmH6jfAzqd"
      }
    },
    {
      "cell_type": "code",
      "source": [
        "# @title Setup Models\n",
        "# @markdown Will skip if already downloaded\n",
        "import gdown\n",
        "\n",
        "\n",
        "models_base_path = PROJECT_PATH / \"pretrained_models\"\n",
        "\n",
        "def check_models(model: str) -> bool:\n",
        "    model_path = models_base_path / f\"film_net/{model}/saved_model\"\n",
        "\n",
        "    return (\n",
        "        (model_path / \"keras_metadata.pb\").exists() and\n",
        "        (model_path / \"saved_model.pb\").exists() and \n",
        "        (model_path / \"variables/variables.data-00000-of-00001\").exists() and\n",
        "        (model_path / \"variables/variables.index\").exists()\n",
        "    )\n",
        "\n",
        "\n",
        "def download_model(url, output_folder):\n",
        "    return gdown.download_folder(url, output=output_folder, quiet=False, use_cookies=False)\n",
        "\n",
        "\n",
        "# check if we've already downloaded\n",
        "is_downloaded = check_models(\"L1\") and check_models(\"VGG\") and check_models(\"Style\")\n",
        "\n",
        "gdrive_url = \"https://drive.google.com/drive/folders/1q8110-qp225asX3DQvZnfLfJPkCHmDpy\"\n",
        "\n",
        "if not is_downloaded:\n",
        "    print(\"Downloading models...\")\n",
        "    result = download_model(gdrive_url, str(models_base_path))\n",
        "    if result is None:\n",
        "        msg = f\"\"\"\\n\n",
        "=======================================================================\n",
        " Automatic download as failed. Please upload following the steps above.\n",
        " Upload models to path: {models_base_path}\n",
        "=======================================================================\n",
        "        \"\"\"\n",
        "        raise UserWarning(msg)\n",
        "else:\n",
        "    print(\"Models already downloaded! Skipping\")\n",
        "\n",
        "\n"
      ],
      "metadata": {
        "id": "JwNt6IC4Eemt",
        "cellView": "form"
      },
      "execution_count": null,
      "outputs": []
    },
    {
      "cell_type": "markdown",
      "source": [
        "# Interpolate!"
      ],
      "metadata": {
        "id": "sOVDKP3-C1zq"
      }
    },
    {
      "cell_type": "code",
      "execution_count": null,
      "metadata": {
        "cellView": "form",
        "id": "JS_U-0Ot888M"
      },
      "outputs": [],
      "source": [
        "\n",
        "#@markdown Uncheck to use any path in your drive\n",
        "use_project_folder = True #@param{type:\"boolean\"}\n",
        "# folder with video frames\n",
        "#@markdown Folder with the your frame.png files. Files will be processed in alphabetical order. i.e. frame01.png, frame02.png frame03.png\n",
        "frames_folder = \"n0-anim01\" #@param{type:\"string\"}\n",
        "#@markdown The number of times to run recursive midpoint interpolation. The number of output frames will be 2^times_to_interpolate+1. Longer is slower and smoother but takes longer to process.\n",
        "times_to_interpolate = 5 #@param{type:\"slider\", min:0, max:10, step:1}\n",
        "#@markdown Relative to video FPS. If FPS is 30, 0.3 will pause for 9 framess. Set to 0 to turn off.\n",
        "transition_pause =  0.3#@param{type:\"number\"}\n",
        "# pad start\n",
        "first_frame_pause =  0.1#@param{type:\"number\"}\n",
        "# default 30. 'Frames per second to play interpolated videos in slow motion.'\n",
        "video_fps = 25 #@param{type:\"number\"}\n",
        "# Style of the video output\n",
        "#@markdown - `loop`: Create a continuous loop with the first frame. Create a smooth loop back to the start\n",
        "#@markdown - `foward_reverse`: forward until the final frame. Then reverse back to the start. Warning: Doubles processing time.\n",
        "#@markdown - `normal`: Start at frame 1 and progress to the final frame\n",
        "video_style = \"normal\" #@param ['loop', 'foward_reverse', 'normal']\n",
        "# select model\n",
        "#@markdown - `Style`:  crisp but can produce hard edges and jitters\n",
        "#@markdown - `VGG`: trade off between crisp and smooth\n",
        "#@markdown - `L1`: smoother but blurrier\n",
        "flim_net_model = \"VGG\" #@param [\"VGG\", \"Style\", \"L1\"]\n",
        "\n",
        "# Add other extensions, if not either.\n",
        "INPUT_EXT = ['.png', '.jpg', '.jpeg']\n",
        "\n",
        "# intput/output directors\n",
        "if use_project_folder:\n",
        "    frames_path = PROJECT_PATH / frames_folder\n",
        "else:\n",
        "    frames_path = MYDRIVE_PATH / frames_folder\n",
        "intermediate_output = frames_path / 'intermediate_videos'\n",
        "\n",
        "# collect input frames\n",
        "input_files = [str(f)\n",
        "               for f in map(Path, sorted(glob.glob(f\"{str(frames_path)}/*\"))) \n",
        "               if f.is_file() and f.suffix in INPUT_EXT]\n",
        "\n",
        "\n",
        "    \n",
        "\n",
        "if not input_files:\n",
        "    drive_relative_path = str(frames_path)[len(str(MYDRIVE_PATH)) + 1:]\n",
        "    msg = f\"\"\"\n",
        "\n",
        "No images found in gdrive folder: {drive_relative_path}\n",
        "This folder does not exist or contains no image files.\n",
        "    \"\"\"\n",
        "    raise UserWarning(msg)\n",
        "\n",
        "print(\"Interpolating\", len(input_files), \"images\")\n",
        "\n",
        "# clear old frames\n",
        "!rm -r $intermediate_output\n",
        "!mkdir -p $intermediate_output\n",
        "\n",
        "ffmpeg_path = util.get_ffmpeg_path()\n",
        "media.set_ffmpeg(ffmpeg_path)\n",
        "\n",
        "if video_style == \"loop\":\n",
        "    input_files.append(input_files[0])\n",
        "elif video_style == \"foward_reverse\":\n",
        "    input_files += input_files[1::-1]\n",
        "\n",
        "frame_sets = list(zip(input_files[:-1], input_files[1:]))\n",
        "\n",
        "# calculate padding\n",
        "t_padding_frames = math.floor(video_fps * transition_pause)\n",
        "s_padding_frames = math.floor(video_fps * first_frame_pause)\n",
        "\n",
        "\n",
        "# load the model\n",
        "print(\"Loading the model...\")\n",
        "model_path = str(PROJECT_PATH / f\"pretrained_models/film_net/{flim_net_model}/saved_model\")\n",
        "interpolator = interpolator_lib.Interpolator(model_path)\n",
        "\n",
        "# interpolate\n",
        "for i in trange(len(frame_sets)):\n",
        "    infiles = frame_sets[i]\n",
        "    frames = list(util.interpolate_recursively_from_files(infiles, times_to_interpolate, interpolator))\n",
        "\n",
        "    # pad the start of the animation if on the first frame\n",
        "    if i == 0:\n",
        "        frames = [frames[0]] * s_padding_frames + frames\n",
        "    if i > 0:\n",
        "        # remove extra duplicated frame\n",
        "        frames = frames[1:]\n",
        "    frames += [frames[-1]] * t_padding_frames\n",
        "\n",
        "    # output_frames(frames, str(frames_output_path))\n",
        "    output_mp4 = f'{intermediate_output}/interpolated_{i:04}.mp4'\n",
        "    media.write_video(output_mp4, frames, fps=video_fps)\n",
        "\n",
        "print(f'Saving final video to {frames_path}/interpolated.mp4.')\n",
        "all_videos = [f\"file '{f}'\\n\"\n",
        "              for f in map(Path, sorted(glob.glob(f\"{str(intermediate_output)}/*\"))) \n",
        "              if f.is_file() and f.suffix == \".mp4\"]\n",
        "\n",
        "videos_list_file = f\"{frames_path}/videos_files_list.txt\"\n",
        "\n",
        "with open(videos_list_file, \"w\") as f:\n",
        "    f.writelines(all_videos)\n",
        "\n",
        "final_output_path = f\"{frames_path}/interpolated.mp4\"\n",
        "!ffmpeg -y -f concat -safe 0 -i $videos_list_file -c copy $final_output_path"
      ]
    },
    {
      "cell_type": "code",
      "execution_count": null,
      "metadata": {
        "cellView": "form",
        "id": "fo3TpqbOK7pt"
      },
      "outputs": [],
      "source": [
        "#@title Play Video\n",
        "\n",
        "mp4 = open(final_output_path,'rb').read()\n",
        "data_url = \"data:video/mp4;base64,\" + b64encode(mp4).decode()\n",
        "display.display( display.HTML(f'<video controls loop><source src=\"{data_url}\" type=\"video/mp4\"></video>') )\n"
      ]
    }
  ],
  "metadata": {
    "accelerator": "GPU",
    "colab": {
      "collapsed_sections": [],
      "provenance": [],
      "private_outputs": true
    },
    "kernelspec": {
      "display_name": "Python 3",
      "name": "python3"
    },
    "language_info": {
      "name": "python"
    }
  },
  "nbformat": 4,
  "nbformat_minor": 0
}