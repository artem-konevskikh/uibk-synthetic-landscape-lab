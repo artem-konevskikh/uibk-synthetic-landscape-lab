{
  "nbformat": 4,
  "nbformat_minor": 0,
  "metadata": {
    "colab": {
      "provenance": []
    },
    "kernelspec": {
      "name": "python3",
      "display_name": "Python 3"
    },
    "language_info": {
      "name": "python"
    }
  },
  "cells": [
    {
      "cell_type": "markdown",
      "source": [
        "# PLY 2 LAS Converter\n",
        "\n",
        "Converts PLY point clouds to LAS format.\n",
        "\n",
        "LAS files can be checked at [plas.io](https://plas.io/)\n",
        "\n",
        "\n",
        "\n",
        "\n",
        "Made by [Artem Konevskikh](https://aiculedssul.net/)"
      ],
      "metadata": {
        "id": "gHj18RY6QxHE"
      }
    },
    {
      "cell_type": "code",
      "source": [
        "#@title Install\n",
        "#@markdown After cell finish it's execution there will 'Restart Runtime' button appear. Click on it, wait for restart and continue with the next cells.\n",
        "\n",
        "!pip install pylas[lazrs,laszip] open3d"
      ],
      "metadata": {
        "cellView": "form",
        "id": "khMXWaLNgAq0"
      },
      "execution_count": null,
      "outputs": []
    },
    {
      "cell_type": "code",
      "execution_count": 2,
      "metadata": {
        "cellView": "form",
        "id": "nvSn29iAQhpB"
      },
      "outputs": [],
      "source": [
        "#@title Load converter functions\n",
        "\n",
        "\n",
        "import os\n",
        "import numpy as np\n",
        "import pylas\n",
        "import open3d as o3d\n",
        "\n",
        "\n",
        "def write_las(filename: str, xyz_points, rgb_points=None, classes=None):\n",
        "    \"\"\"\n",
        "    creates a .las file of the generated point clouds\n",
        "    \"\"\"\n",
        "\n",
        "    assert xyz_points.shape[1] == 3, 'Input XYZ points should be Nx3 float array'\n",
        "    if rgb_points is None:\n",
        "        rgb_points = np.ones(xyz_points.shape).astype(np.uint8) * 255\n",
        "    assert xyz_points.shape == rgb_points.shape, \\\n",
        "        'Input RGB colors should be Nx3 float array and have same size as input XYZ points'\n",
        "    if classes is None:\n",
        "        classes = np.ones((xyz_points.shape[0],)).astype(np.uint8)\n",
        "    assert xyz_points.shape[0] == classes.shape[0], \\\n",
        "        'Input Classes should be Nx1 int array and have same length as input XYZ points'\n",
        "\n",
        "    las = pylas.create(point_format_id=2, file_version='1.2')\n",
        "    las.header.x_scale = 0.0001\n",
        "    las.header.y_scale = 0.0001\n",
        "    las.header.z_scale = 0.0001\n",
        "    las.x = xyz_points[:, 0]\n",
        "    las.y = xyz_points[:, 1]\n",
        "    las.z = xyz_points[:, 2]\n",
        "    las.red = rgb_points[:, 0]\n",
        "    las.green = rgb_points[:, 1]\n",
        "    las.blue = rgb_points[:, 2]\n",
        "\n",
        "    las.classification = classes\n",
        "    las.write(filename)\n",
        "\n",
        "\n",
        "def convert(ply_file, las_file):\n",
        "    pcd = o3d.io.read_point_cloud(ply_file)\n",
        "    pcd.estimate_normals()\n",
        "    points = np.asarray(pcd.points)\n",
        "    colors = np.asarray(pcd.colors)\n",
        "    colors = colors*255\n",
        "    write_las(las_file, points, colors.astype(np.uint8))"
      ]
    },
    {
      "cell_type": "code",
      "source": [
        "#@title Mound Google Drive\n",
        "#@markdown Connect Google Drive to load and save the converted point cloud\n",
        "from google.colab import drive\n",
        "drive.mount('/content/drive', force_remount=True)"
      ],
      "metadata": {
        "cellView": "form",
        "id": "mN9Na4g_dd5u"
      },
      "execution_count": null,
      "outputs": []
    },
    {
      "cell_type": "code",
      "source": [
        "#@title Convert\n",
        "#@markdown Input PLY file\n",
        "ply_file = \"/content/model.ply\" #@param {type:\"string\"}\n",
        "#@markdown Output LAS file\n",
        "las_file = '/content/model.las'  #@param {type:\"string\"}\n",
        "\n",
        "assert os.path.exists(ply_file), \"PLY file doesn't exist\"\n",
        "convert(ply_file, las_file)\n",
        "print(f\"LAS flile saved\")"
      ],
      "metadata": {
        "id": "zKFL6XdBRFUg",
        "cellView": "form"
      },
      "execution_count": null,
      "outputs": []
    }
  ]
}