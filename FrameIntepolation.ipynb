{
  "cells": [
    {
      "cell_type": "markdown",
      "metadata": {
        "id": "ta5JdSV1_5ZM"
      },
      "source": [
        "# FILM - Frame Interpolation\n",
        "\n",
        "Based on [this repository](https://github.com/google-research/frame-interpolation)\n",
        "\n",
        "Notebook created by [Artem Konevskikh](https://aiculedssul.net/)"
      ]
    },
    {
      "cell_type": "code",
      "execution_count": null,
      "metadata": {
        "cellView": "form",
        "id": "PzaKUvdd_z9R"
      },
      "outputs": [],
      "source": [
        "#@title Install\n",
        "!pip install gdown --upgrade\n",
        "!pip install tensorflow-datasets==4.4.0 tensorflow-addons==0.15.0 absl-py==0.12.0 gin-config==0.5.0 parameterized==0.8.1 mediapy==1.0.3 scikit-image==0.19.1 apache-beam==2.34.0\n",
        "!git clone https://github.com/google-research/frame-interpolation frame_interpolation"
      ]
    },
    {
      "cell_type": "code",
      "execution_count": null,
      "metadata": {
        "cellView": "form",
        "id": "B2kidfFQCRoV"
      },
      "outputs": [],
      "source": [
        "#@title Download Pretrained Model\n",
        "!gdown 1C1YwOo293_yrgSS8tAyFbbVcMeXxzftE -O /content/frame_interpolation/pretrained_models-20220214T214839Z-001.zip\n",
        "!unzip \"/content/frame_interpolation/pretrained_models-20220214T214839Z-001.zip\" -d /content/frame_interpolation/"
      ]
    },
    {
      "cell_type": "code",
      "execution_count": null,
      "metadata": {
        "cellView": "form",
        "id": "sKQTiFnfAkc_"
      },
      "outputs": [],
      "source": [
        "#@title Mount Google Drive\n",
        "\n",
        "from google.colab import drive\n",
        "drive.mount('/content/drive')"
      ]
    },
    {
      "cell_type": "code",
      "execution_count": null,
      "metadata": {
        "id": "TvFw-T3oBUWr",
        "cellView": "form"
      },
      "outputs": [],
      "source": [
        "#@title Interpolation\n",
        "#@markdown Input frames\n",
        "folder = '/content/drive/MyDrive/workshops/uibk/vvvv' #@param {type: \"string\"}\n",
        "#@markdown The number of times to run recursive midpoint interpolation. The number of output frames will be 2^times+1.\n",
        "times =  3#@param {type: \"integer\"}\n",
        "#@markdown Save video\n",
        "video = False #@param {type: \"boolean\"}\n",
        "#@markdown FPS\n",
        "fps = 10 #@param {type: \"integer\"}\n",
        "\n",
        "\n",
        "path = '/content/frame_interpolation/pretrained_models/film_net/Style/saved_model'\n",
        "\n",
        "\n",
        "if video:\n",
        "  !python -m frame_interpolation.eval.interpolator_cli \\\n",
        "      --pattern $folder \\\n",
        "      --fps $fps \\\n",
        "      --model_path $path \\\n",
        "      --times_to_interpolate $times \\\n",
        "      --output_video\n",
        "else:\n",
        "  !python -m frame_interpolation.eval.interpolator_cli \\\n",
        "      --pattern $folder \\\n",
        "      --model_path $path \\\n",
        "      --times_to_interpolate $times"
      ]
    }
  ],
  "metadata": {
    "accelerator": "GPU",
    "colab": {
      "provenance": []
    },
    "kernelspec": {
      "display_name": "Python 3",
      "name": "python3"
    },
    "language_info": {
      "name": "python"
    }
  },
  "nbformat": 4,
  "nbformat_minor": 0
}