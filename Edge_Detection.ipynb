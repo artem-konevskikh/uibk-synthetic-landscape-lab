{
  "nbformat": 4,
  "nbformat_minor": 0,
  "metadata": {
    "colab": {
      "provenance": []
    },
    "kernelspec": {
      "name": "python3",
      "display_name": "Python 3"
    },
    "language_info": {
      "name": "python"
    }
  },
  "cells": [
    {
      "cell_type": "markdown",
      "source": [
        "# Edge detection\n",
        "\n",
        "Notebook created by [Artem Konevskikh](https://aiculedssul.net/)\n",
        "\n",
        "More information about Canny Edge Detector you can find [here](https://docs.opencv.org/4.x/da/d22/tutorial_py_canny.html)"
      ],
      "metadata": {
        "id": "6MV-MxiDKuIH"
      }
    },
    {
      "cell_type": "code",
      "execution_count": null,
      "metadata": {
        "cellView": "form",
        "id": "YClf-H5QCL3C"
      },
      "outputs": [],
      "source": [
        "#@title Mount Google Drive\n",
        "import glob\n",
        "import os\n",
        "from tqdm.notebook import tqdm\n",
        "import cv2\n",
        "import numpy as np\n",
        "from google.colab import drive\n",
        "\n",
        "drive.mount('/content/drive')"
      ]
    },
    {
      "cell_type": "code",
      "source": [
        "#@title Process direcotry\n",
        "input_dir = '/content/drive/MyDrive/workshops/uibk/vvvv' #@param {type:'string'}\n",
        "result_dir = '/content/drive/MyDrive/workshops/uibk/edges' #@param {type:'string'}\n",
        "#@markdown Canny Edge Detector parameters\n",
        "threshold1 = 100 #@param {type:\"slider\", min:0, max:255, step:1}\n",
        "threshold2 = 200 #@param {type:\"slider\", min:0, max:255, step:1}\n",
        "#@markdown Draw contour around detected edges\n",
        "create_contours = True #@param {type:'boolean'}\n",
        "\n",
        "threshold1, threshold2 = min(threshold1, threshold2), max(threshold1, threshold2)\n",
        "\n",
        "if not os.path.exists(result_dir):\n",
        "    os.makedirs(result_dir)\n",
        "if create_contours and not os.path.exists(f\"{result_dir}/contours\"):\n",
        "    os.makedirs(f\"{result_dir}/contours\")\n",
        "\n",
        "\n",
        "print('processing files')\n",
        "img_ext = ['tif', 'tiff', 'TIF', 'TIFF', 'png', 'PNG', 'jpg', 'JPG', 'jpeg', 'JPEG', 'bmp', 'BMP']\n",
        "images = []\n",
        "for ext in img_ext:\n",
        "  images += glob.glob(f'{input_dir}/*.{ext}')\n",
        "\n",
        "for img in tqdm(images):\n",
        "  if os.path.isfile(img):\n",
        "    fname = os.path.splitext(img)[0].split('/')[-1]\n",
        "    img = cv2.imread(img)\n",
        "    img_gray = cv2.cvtColor(img, cv2.COLOR_BGR2GRAY)\n",
        "    edges = cv2.Canny(image=img_gray, threshold1=100, threshold2=200)\n",
        "    cv2.imwrite(f'{result_dir}/{fname}_canny.png', edges)\n",
        "    if create_contours:\n",
        "      contours, hierarchy = cv2.findContours(edges, cv2.RETR_EXTERNAL, cv2.CHAIN_APPROX_NONE)\n",
        "      img_c = np.zeros(img.shape, dtype = \"uint8\")\n",
        "      cv2.drawContours(img_c, contours, -1, (255, 255, 255), 1)\n",
        "      cv2.imwrite(f'{result_dir}/contours/{fname}_contours.png', img_c)"
      ],
      "metadata": {
        "cellView": "form",
        "id": "MRL95Kk0Cqt9"
      },
      "execution_count": null,
      "outputs": []
    }
  ]
}